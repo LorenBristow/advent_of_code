{
 "cells": [
  {
   "cell_type": "markdown",
   "metadata": {},
   "source": [
    "--- Day 6: Custom Customs ---\n",
    "As your flight approaches the regional airport where you'll switch to a much larger plane, customs declaration forms are distributed to the passengers.\n",
    "\n",
    "The form asks a series of 26 yes-or-no questions marked a through z. All you need to do is identify the questions for which anyone in your group answers \"yes\". Since your group is just you, this doesn't take very long.\n",
    "\n",
    "However, the person sitting next to you seems to be experiencing a language barrier and asks if you can help. For each of the people in their group, you write down the questions for which they answer \"yes\", one per line. For example:\n",
    "\n",
    "abcx\n",
    "abcy\n",
    "abcz\n",
    "In this group, there are 6 questions to which anyone answered \"yes\": a, b, c, x, y, and z. (Duplicate answers to the same question don't count extra; each question counts at most once.)\n",
    "\n",
    "Another group asks for your help, then another, and eventually you've collected answers from every group on the plane (your puzzle input). Each group's answers are separated by a blank line, and within each group, each person's answers are on a single line. For example:\n",
    "\n",
    "abc\n",
    "\n",
    "a\n",
    "b\n",
    "c\n",
    "\n",
    "ab\n",
    "ac\n",
    "\n",
    "a\n",
    "a\n",
    "a\n",
    "a\n",
    "\n",
    "b\n",
    "This list represents answers from five groups:\n",
    "\n",
    "The first group contains one person who answered \"yes\" to 3 questions: a, b, and c.\n",
    "The second group contains three people; combined, they answered \"yes\" to 3 questions: a, b, and c.\n",
    "The third group contains two people; combined, they answered \"yes\" to 3 questions: a, b, and c.\n",
    "The fourth group contains four people; combined, they answered \"yes\" to only 1 question, a.\n",
    "The last group contains one person who answered \"yes\" to only 1 question, b.\n",
    "In this example, the sum of these counts is 3 + 3 + 3 + 1 + 1 = 11.\n",
    "\n",
    "For each group, count the number of questions to which anyone answered \"yes\". What is the sum of those counts?\n",
    "\n",
    "Your puzzle answer was 6947.\n",
    "\n",
    "The first half of this puzzle is complete! It provides one gold star: *"
   ]
  },
  {
   "cell_type": "code",
   "execution_count": 1,
   "metadata": {},
   "outputs": [],
   "source": [
    "import pandas as pd\n",
    "import numpy as np"
   ]
  },
  {
   "cell_type": "code",
   "execution_count": 2,
   "metadata": {},
   "outputs": [],
   "source": [
    "file_path = 'C:/Users\\Loren/Desktop/advent_of_code_day6.txt'"
   ]
  },
  {
   "cell_type": "code",
   "execution_count": 3,
   "metadata": {},
   "outputs": [],
   "source": [
    "#ingest data between blank lines as associate with a single group. \n",
    "#so can't go straight to df, use a detour to manage split by blank line\n",
    "\n",
    "with open(file_path) as f:\n",
    "    lines = f.read()\n",
    "\n",
    "groups = lines.split(\"\\n\\n\") #2 blanks to split on blank row instead of just new line.."
   ]
  },
  {
   "cell_type": "code",
   "execution_count": 4,
   "metadata": {},
   "outputs": [],
   "source": [
    "df = pd.DataFrame(groups)\n",
    "df.rename(columns={0:'raw_groups'}, inplace=True)"
   ]
  },
  {
   "cell_type": "code",
   "execution_count": 5,
   "metadata": {},
   "outputs": [],
   "source": [
    "def clean_up_and_count(raw_groups):\n",
    "    '''Remove duplicates and \\n from each group's string of yes responses. \n",
    "        set() will create a set of unique letters in the string, \n",
    "        and \"\".join() will join the letters back to a string in arbitrary order.\n",
    "        Count = number of unique letters in each clean string'''\n",
    "    no_new_lines = raw_groups.replace('\\n','') #replace deals with new lines in middle of string, strip would deal with only start and end occurrences\n",
    "    clean = \"\".join(set(no_new_lines)) \n",
    "    count = len(clean)\n",
    "    return count\n",
    "\n",
    "df['count_unique_yeses'] = df.apply(lambda x: clean_up_and_count(x['raw_groups']), axis=1)    "
   ]
  },
  {
   "cell_type": "code",
   "execution_count": 6,
   "metadata": {},
   "outputs": [
    {
     "data": {
      "text/html": [
       "<div>\n",
       "<style scoped>\n",
       "    .dataframe tbody tr th:only-of-type {\n",
       "        vertical-align: middle;\n",
       "    }\n",
       "\n",
       "    .dataframe tbody tr th {\n",
       "        vertical-align: top;\n",
       "    }\n",
       "\n",
       "    .dataframe thead th {\n",
       "        text-align: right;\n",
       "    }\n",
       "</style>\n",
       "<table border=\"1\" class=\"dataframe\">\n",
       "  <thead>\n",
       "    <tr style=\"text-align: right;\">\n",
       "      <th></th>\n",
       "      <th>raw_groups</th>\n",
       "      <th>count_unique_yeses</th>\n",
       "    </tr>\n",
       "  </thead>\n",
       "  <tbody>\n",
       "    <tr>\n",
       "      <th>0</th>\n",
       "      <td>xav\\nuavx\\nxavsi\\nyavx</td>\n",
       "      <td>7</td>\n",
       "    </tr>\n",
       "    <tr>\n",
       "      <th>1</th>\n",
       "      <td>efokjptizdcwmqnuh\\nqgfdvurtnjwpichxk\\ntaqkcunf...</td>\n",
       "      <td>24</td>\n",
       "    </tr>\n",
       "    <tr>\n",
       "      <th>2</th>\n",
       "      <td>mzbg\\ntmg\\nrlvge\\nhgpbzn\\ncagkijyu</td>\n",
       "      <td>19</td>\n",
       "    </tr>\n",
       "    <tr>\n",
       "      <th>3</th>\n",
       "      <td>ahynbmqljzpwxokcfrtsgeud\\nxwzcmdhkrjnupegqlyoa...</td>\n",
       "      <td>24</td>\n",
       "    </tr>\n",
       "    <tr>\n",
       "      <th>4</th>\n",
       "      <td>jrxcnyadsgbtpvoze\\nsecpytarvdzjgb\\nycsfzgtedar...</td>\n",
       "      <td>18</td>\n",
       "    </tr>\n",
       "  </tbody>\n",
       "</table>\n",
       "</div>"
      ],
      "text/plain": [
       "                                          raw_groups  count_unique_yeses\n",
       "0                             xav\\nuavx\\nxavsi\\nyavx                   7\n",
       "1  efokjptizdcwmqnuh\\nqgfdvurtnjwpichxk\\ntaqkcunf...                  24\n",
       "2                 mzbg\\ntmg\\nrlvge\\nhgpbzn\\ncagkijyu                  19\n",
       "3  ahynbmqljzpwxokcfrtsgeud\\nxwzcmdhkrjnupegqlyoa...                  24\n",
       "4  jrxcnyadsgbtpvoze\\nsecpytarvdzjgb\\nycsfzgtedar...                  18"
      ]
     },
     "execution_count": 6,
     "metadata": {},
     "output_type": "execute_result"
    }
   ],
   "source": [
    "df.head()"
   ]
  },
  {
   "cell_type": "code",
   "execution_count": 7,
   "metadata": {},
   "outputs": [
    {
     "data": {
      "text/plain": [
       "6947"
      ]
     },
     "execution_count": 7,
     "metadata": {},
     "output_type": "execute_result"
    }
   ],
   "source": [
    "#answer - sum uniques per group\n",
    "df['count_unique_yeses'].sum()"
   ]
  },
  {
   "cell_type": "markdown",
   "metadata": {},
   "source": [
    "Part 2"
   ]
  },
  {
   "cell_type": "markdown",
   "metadata": {},
   "source": [
    "As you finish the last group's customs declaration, you notice that you misread one word in the instructions:\n",
    "\n",
    "You don't need to identify the questions to which anyone answered \"yes\"; you need to identify the questions to which everyone answered \"yes\"!\n",
    "\n",
    "Using the same example as above:\n",
    "\n",
    "abc\n",
    "\n",
    "a\n",
    "b\n",
    "c\n",
    "\n",
    "ab\n",
    "ac\n",
    "\n",
    "a\n",
    "a\n",
    "a\n",
    "a\n",
    "\n",
    "b\n",
    "This list represents answers from five groups:\n",
    "\n",
    "In the first group, everyone (all 1 person) answered \"yes\" to 3 questions: a, b, and c.\n",
    "In the second group, there is no question to which everyone answered \"yes\".\n",
    "In the third group, everyone answered yes to only 1 question, a. Since some people did not answer \"yes\" to b or c, they don't count.\n",
    "In the fourth group, everyone answered yes to only 1 question, a.\n",
    "In the fifth group, everyone (all 1 person) answered \"yes\" to 1 question, b.\n",
    "In this example, the sum of these counts is 3 + 0 + 1 + 1 + 1 = 6.\n",
    "\n",
    "For each group, count the number of questions to which everyone answered \"yes\". What is the sum of those counts?\n",
    "\n",
    "Your puzzle answer was 3398.\n",
    "\n",
    "Both parts of this puzzle are complete! They provide two gold stars: **"
   ]
  },
  {
   "cell_type": "code",
   "execution_count": 11,
   "metadata": {},
   "outputs": [],
   "source": [
    "def yes_for_all_count(raw_groups):\n",
    "    '''Count number of single lines in group = number of group members\n",
    "        Count occurrences of each char in string, where count = group members - add 1 to score '''\n",
    "    \n",
    "    #number of lines = number group members\n",
    "    group_members_count = raw_groups.count('\\n') + 1 #plus one for first line in addition to new lines\n",
    "    \n",
    "    #dict for letter counts in each group\n",
    "    group_letter_counts = {}\n",
    "    \n",
    "    for char in raw_groups:\n",
    "        if char.isalpha(): #exclude new lines from char count\n",
    "            if char not in group_letter_counts: #letters not yet counted\n",
    "                group_letter_counts.update({char: 1}) #first letter is count 1..obvs. \n",
    "            else:\n",
    "                new_count = group_letter_counts.get(char) + 1 #add one to existing count in dict\n",
    "                group_letter_counts.update({char: new_count})\n",
    "\n",
    "    #how many letters have count == group member number?\n",
    "    yes_for_all = [] #list for those letters with yes from all group members\n",
    "    for item in group_letter_counts.items():\n",
    "        if item[1] == group_members_count:\n",
    "            yes_for_all.append(item[0])  \n",
    "\n",
    "    yes_for_all_count = len(yes_for_all)\n",
    "\n",
    "    return yes_for_all_count\n",
    "\n",
    "df['yes_for_all_count'] = df.apply(lambda x: yes_for_all_count(x['raw_groups']), axis=1)   "
   ]
  },
  {
   "cell_type": "code",
   "execution_count": 12,
   "metadata": {},
   "outputs": [
    {
     "data": {
      "text/html": [
       "<div>\n",
       "<style scoped>\n",
       "    .dataframe tbody tr th:only-of-type {\n",
       "        vertical-align: middle;\n",
       "    }\n",
       "\n",
       "    .dataframe tbody tr th {\n",
       "        vertical-align: top;\n",
       "    }\n",
       "\n",
       "    .dataframe thead th {\n",
       "        text-align: right;\n",
       "    }\n",
       "</style>\n",
       "<table border=\"1\" class=\"dataframe\">\n",
       "  <thead>\n",
       "    <tr style=\"text-align: right;\">\n",
       "      <th></th>\n",
       "      <th>raw_groups</th>\n",
       "      <th>count_unique_yeses</th>\n",
       "      <th>yes_for_all_count</th>\n",
       "    </tr>\n",
       "  </thead>\n",
       "  <tbody>\n",
       "    <tr>\n",
       "      <th>0</th>\n",
       "      <td>xav\\nuavx\\nxavsi\\nyavx</td>\n",
       "      <td>7</td>\n",
       "      <td>3</td>\n",
       "    </tr>\n",
       "    <tr>\n",
       "      <th>1</th>\n",
       "      <td>efokjptizdcwmqnuh\\nqgfdvurtnjwpichxk\\ntaqkcunf...</td>\n",
       "      <td>24</td>\n",
       "      <td>13</td>\n",
       "    </tr>\n",
       "    <tr>\n",
       "      <th>2</th>\n",
       "      <td>mzbg\\ntmg\\nrlvge\\nhgpbzn\\ncagkijyu</td>\n",
       "      <td>19</td>\n",
       "      <td>1</td>\n",
       "    </tr>\n",
       "    <tr>\n",
       "      <th>3</th>\n",
       "      <td>ahynbmqljzpwxokcfrtsgeud\\nxwzcmdhkrjnupegqlyoa...</td>\n",
       "      <td>24</td>\n",
       "      <td>22</td>\n",
       "    </tr>\n",
       "    <tr>\n",
       "      <th>4</th>\n",
       "      <td>jrxcnyadsgbtpvoze\\nsecpytarvdzjgb\\nycsfzgtedar...</td>\n",
       "      <td>18</td>\n",
       "      <td>14</td>\n",
       "    </tr>\n",
       "  </tbody>\n",
       "</table>\n",
       "</div>"
      ],
      "text/plain": [
       "                                          raw_groups  count_unique_yeses  \\\n",
       "0                             xav\\nuavx\\nxavsi\\nyavx                   7   \n",
       "1  efokjptizdcwmqnuh\\nqgfdvurtnjwpichxk\\ntaqkcunf...                  24   \n",
       "2                 mzbg\\ntmg\\nrlvge\\nhgpbzn\\ncagkijyu                  19   \n",
       "3  ahynbmqljzpwxokcfrtsgeud\\nxwzcmdhkrjnupegqlyoa...                  24   \n",
       "4  jrxcnyadsgbtpvoze\\nsecpytarvdzjgb\\nycsfzgtedar...                  18   \n",
       "\n",
       "   yes_for_all_count  \n",
       "0                  3  \n",
       "1                 13  \n",
       "2                  1  \n",
       "3                 22  \n",
       "4                 14  "
      ]
     },
     "execution_count": 12,
     "metadata": {},
     "output_type": "execute_result"
    }
   ],
   "source": [
    "df.head()"
   ]
  },
  {
   "cell_type": "code",
   "execution_count": 13,
   "metadata": {},
   "outputs": [
    {
     "data": {
      "text/plain": [
       "3398"
      ]
     },
     "execution_count": 13,
     "metadata": {},
     "output_type": "execute_result"
    }
   ],
   "source": [
    "#answer - count of all yeses by group\n",
    "df['yes_for_all_count'].sum()"
   ]
  },
  {
   "cell_type": "code",
   "execution_count": null,
   "metadata": {},
   "outputs": [],
   "source": []
  },
  {
   "cell_type": "code",
   "execution_count": null,
   "metadata": {},
   "outputs": [],
   "source": []
  }
 ],
 "metadata": {
  "kernelspec": {
   "display_name": "Python 3",
   "language": "python",
   "name": "python3"
  },
  "language_info": {
   "codemirror_mode": {
    "name": "ipython",
    "version": 3
   },
   "file_extension": ".py",
   "mimetype": "text/x-python",
   "name": "python",
   "nbconvert_exporter": "python",
   "pygments_lexer": "ipython3",
   "version": "3.6.12"
  }
 },
 "nbformat": 4,
 "nbformat_minor": 4
}
