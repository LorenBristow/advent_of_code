{
 "cells": [
  {
   "cell_type": "markdown",
   "metadata": {},
   "source": []
  },
  {
   "cell_type": "code",
   "execution_count": 7,
   "metadata": {},
   "outputs": [],
   "source": [
    "import pandas as pd\n",
    "import numpy as np"
   ]
  },
  {
   "cell_type": "code",
   "execution_count": 39,
   "metadata": {},
   "outputs": [],
   "source": [
    "file_path = 'C:/Users\\Loren/Desktop/advent_of_code_day7.txt'"
   ]
  },
  {
   "cell_type": "code",
   "execution_count": 40,
   "metadata": {},
   "outputs": [],
   "source": [
    "df = pd.read_csv(file_path, sep='\\n', header=None)\n",
    "df.rename(columns={0:'rules'}, inplace=True)"
   ]
  },
  {
   "cell_type": "code",
   "execution_count": 59,
   "metadata": {},
   "outputs": [],
   "source": [
    "#add column with section of string before 'contain' as this is the colour of the outer bag\n",
    "df['outer_bag'] = [x.split('contain')[0] for x in df['rules']]  \n",
    "df['inner_bags'] = [x.split('contain')[1] for x in df['rules']]  "
   ]
  },
  {
   "cell_type": "code",
   "execution_count": 55,
   "metadata": {},
   "outputs": [],
   "source": [
    "def bag_colours(outer_bag, inner_bag, bag_of_interest = 'shiny gold bag'):\n",
    "    qualifying_outer_bags = []\n",
    "    \n",
    "    for i in inner_bag:\n",
    "        if bag_of_interest in i: #explicitly contains shiny gold bag\n",
    "            qualifying_outer_bags.append(outer_bag) \n",
    "            qualifying_outer_bags = set(qualifying_outer_bags)\n",
    "    for o in outer_bag:\n",
    "        if o in o:\n",
    "            \n",
    "\n",
    "df['holds_bag_of_interest'] = df.apply(lambda x: bag_colours(x['outer_bag'], x['inner_bag']), axis=1)  "
   ]
  },
  {
   "cell_type": "code",
   "execution_count": 64,
   "metadata": {},
   "outputs": [
    {
     "data": {
      "text/plain": [
       "594"
      ]
     },
     "execution_count": 64,
     "metadata": {},
     "output_type": "execute_result"
    }
   ],
   "source": [
    "len(set(df['rules']))"
   ]
  },
  {
   "cell_type": "code",
   "execution_count": 61,
   "metadata": {},
   "outputs": [
    {
     "data": {
      "text/html": [
       "<style  type=\"text/css\" >\n",
       "    #T_8ac65f48_4ede_11eb_b1f1_f4d108cbf8b7row0_col0 {\n",
       "            width-min:  300px;\n",
       "        }    #T_8ac65f48_4ede_11eb_b1f1_f4d108cbf8b7row0_col1 {\n",
       "            width-min:  300px;\n",
       "        }    #T_8ac65f48_4ede_11eb_b1f1_f4d108cbf8b7row0_col2 {\n",
       "            width-min:  300px;\n",
       "        }    #T_8ac65f48_4ede_11eb_b1f1_f4d108cbf8b7row0_col3 {\n",
       "            width-min:  300px;\n",
       "        }    #T_8ac65f48_4ede_11eb_b1f1_f4d108cbf8b7row1_col0 {\n",
       "            width-min:  300px;\n",
       "        }    #T_8ac65f48_4ede_11eb_b1f1_f4d108cbf8b7row1_col1 {\n",
       "            width-min:  300px;\n",
       "        }    #T_8ac65f48_4ede_11eb_b1f1_f4d108cbf8b7row1_col2 {\n",
       "            width-min:  300px;\n",
       "        }    #T_8ac65f48_4ede_11eb_b1f1_f4d108cbf8b7row1_col3 {\n",
       "            width-min:  300px;\n",
       "        }    #T_8ac65f48_4ede_11eb_b1f1_f4d108cbf8b7row2_col0 {\n",
       "            width-min:  300px;\n",
       "        }    #T_8ac65f48_4ede_11eb_b1f1_f4d108cbf8b7row2_col1 {\n",
       "            width-min:  300px;\n",
       "        }    #T_8ac65f48_4ede_11eb_b1f1_f4d108cbf8b7row2_col2 {\n",
       "            width-min:  300px;\n",
       "        }    #T_8ac65f48_4ede_11eb_b1f1_f4d108cbf8b7row2_col3 {\n",
       "            width-min:  300px;\n",
       "        }    #T_8ac65f48_4ede_11eb_b1f1_f4d108cbf8b7row3_col0 {\n",
       "            width-min:  300px;\n",
       "        }    #T_8ac65f48_4ede_11eb_b1f1_f4d108cbf8b7row3_col1 {\n",
       "            width-min:  300px;\n",
       "        }    #T_8ac65f48_4ede_11eb_b1f1_f4d108cbf8b7row3_col2 {\n",
       "            width-min:  300px;\n",
       "        }    #T_8ac65f48_4ede_11eb_b1f1_f4d108cbf8b7row3_col3 {\n",
       "            width-min:  300px;\n",
       "        }    #T_8ac65f48_4ede_11eb_b1f1_f4d108cbf8b7row4_col0 {\n",
       "            width-min:  300px;\n",
       "        }    #T_8ac65f48_4ede_11eb_b1f1_f4d108cbf8b7row4_col1 {\n",
       "            width-min:  300px;\n",
       "        }    #T_8ac65f48_4ede_11eb_b1f1_f4d108cbf8b7row4_col2 {\n",
       "            width-min:  300px;\n",
       "        }    #T_8ac65f48_4ede_11eb_b1f1_f4d108cbf8b7row4_col3 {\n",
       "            width-min:  300px;\n",
       "        }</style>  \n",
       "<table id=\"T_8ac65f48_4ede_11eb_b1f1_f4d108cbf8b7\" > \n",
       "<thead>    <tr> \n",
       "        <th class=\"blank level0\" ></th> \n",
       "        <th class=\"col_heading level0 col0\" >rules</th> \n",
       "        <th class=\"col_heading level0 col1\" >outer_bag</th> \n",
       "        <th class=\"col_heading level0 col2\" >level1</th> \n",
       "        <th class=\"col_heading level0 col3\" >inner_bags</th> \n",
       "    </tr></thead> \n",
       "<tbody>    <tr> \n",
       "        <th id=\"T_8ac65f48_4ede_11eb_b1f1_f4d108cbf8b7level0_row0\" class=\"row_heading level0 row0\" >0</th> \n",
       "        <td id=\"T_8ac65f48_4ede_11eb_b1f1_f4d108cbf8b7row0_col0\" class=\"data row0 col0\" >posh teal bags contain 2 faded coral bags, 3 striped crimson bags, 1 faded red bag.</td> \n",
       "        <td id=\"T_8ac65f48_4ede_11eb_b1f1_f4d108cbf8b7row0_col1\" class=\"data row0 col1\" >posh teal bags </td> \n",
       "        <td id=\"T_8ac65f48_4ede_11eb_b1f1_f4d108cbf8b7row0_col2\" class=\"data row0 col2\" >0</td> \n",
       "        <td id=\"T_8ac65f48_4ede_11eb_b1f1_f4d108cbf8b7row0_col3\" class=\"data row0 col3\" > 2 faded coral bags, 3 striped crimson bags, 1 faded red bag.</td> \n",
       "    </tr>    <tr> \n",
       "        <th id=\"T_8ac65f48_4ede_11eb_b1f1_f4d108cbf8b7level0_row1\" class=\"row_heading level0 row1\" >1</th> \n",
       "        <td id=\"T_8ac65f48_4ede_11eb_b1f1_f4d108cbf8b7row1_col0\" class=\"data row1 col0\" >mirrored chartreuse bags contain 3 clear beige bags, 3 shiny silver bags, 3 bright green bags.</td> \n",
       "        <td id=\"T_8ac65f48_4ede_11eb_b1f1_f4d108cbf8b7row1_col1\" class=\"data row1 col1\" >mirrored chartreuse bags </td> \n",
       "        <td id=\"T_8ac65f48_4ede_11eb_b1f1_f4d108cbf8b7row1_col2\" class=\"data row1 col2\" >0</td> \n",
       "        <td id=\"T_8ac65f48_4ede_11eb_b1f1_f4d108cbf8b7row1_col3\" class=\"data row1 col3\" > 3 clear beige bags, 3 shiny silver bags, 3 bright green bags.</td> \n",
       "    </tr>    <tr> \n",
       "        <th id=\"T_8ac65f48_4ede_11eb_b1f1_f4d108cbf8b7level0_row2\" class=\"row_heading level0 row2\" >2</th> \n",
       "        <td id=\"T_8ac65f48_4ede_11eb_b1f1_f4d108cbf8b7row2_col0\" class=\"data row2 col0\" >dotted red bags contain 4 light chartreuse bags.</td> \n",
       "        <td id=\"T_8ac65f48_4ede_11eb_b1f1_f4d108cbf8b7row2_col1\" class=\"data row2 col1\" >dotted red bags </td> \n",
       "        <td id=\"T_8ac65f48_4ede_11eb_b1f1_f4d108cbf8b7row2_col2\" class=\"data row2 col2\" >0</td> \n",
       "        <td id=\"T_8ac65f48_4ede_11eb_b1f1_f4d108cbf8b7row2_col3\" class=\"data row2 col3\" > 4 light chartreuse bags.</td> \n",
       "    </tr>    <tr> \n",
       "        <th id=\"T_8ac65f48_4ede_11eb_b1f1_f4d108cbf8b7level0_row3\" class=\"row_heading level0 row3\" >3</th> \n",
       "        <td id=\"T_8ac65f48_4ede_11eb_b1f1_f4d108cbf8b7row3_col0\" class=\"data row3 col0\" >faded chartreuse bags contain 1 striped black bag, 1 dim coral bag, 5 mirrored maroon bags.</td> \n",
       "        <td id=\"T_8ac65f48_4ede_11eb_b1f1_f4d108cbf8b7row3_col1\" class=\"data row3 col1\" >faded chartreuse bags </td> \n",
       "        <td id=\"T_8ac65f48_4ede_11eb_b1f1_f4d108cbf8b7row3_col2\" class=\"data row3 col2\" >0</td> \n",
       "        <td id=\"T_8ac65f48_4ede_11eb_b1f1_f4d108cbf8b7row3_col3\" class=\"data row3 col3\" > 1 striped black bag, 1 dim coral bag, 5 mirrored maroon bags.</td> \n",
       "    </tr>    <tr> \n",
       "        <th id=\"T_8ac65f48_4ede_11eb_b1f1_f4d108cbf8b7level0_row4\" class=\"row_heading level0 row4\" >4</th> \n",
       "        <td id=\"T_8ac65f48_4ede_11eb_b1f1_f4d108cbf8b7row4_col0\" class=\"data row4 col0\" >bright teal bags contain 3 light black bags, 4 striped fuchsia bags, 1 dark chartreuse bag.</td> \n",
       "        <td id=\"T_8ac65f48_4ede_11eb_b1f1_f4d108cbf8b7row4_col1\" class=\"data row4 col1\" >bright teal bags </td> \n",
       "        <td id=\"T_8ac65f48_4ede_11eb_b1f1_f4d108cbf8b7row4_col2\" class=\"data row4 col2\" >0</td> \n",
       "        <td id=\"T_8ac65f48_4ede_11eb_b1f1_f4d108cbf8b7row4_col3\" class=\"data row4 col3\" > 3 light black bags, 4 striped fuchsia bags, 1 dark chartreuse bag.</td> \n",
       "    </tr></tbody> \n",
       "</table> "
      ],
      "text/plain": [
       "<pandas.io.formats.style.Styler at 0x1dd1f351f60>"
      ]
     },
     "execution_count": 61,
     "metadata": {},
     "output_type": "execute_result"
    }
   ],
   "source": [
    "df.head().style.set_properties(**{'width-min': '300px'})"
   ]
  },
  {
   "cell_type": "code",
   "execution_count": null,
   "metadata": {},
   "outputs": [],
   "source": [
    "print(quali)"
   ]
  },
  {
   "cell_type": "code",
   "execution_count": 58,
   "metadata": {},
   "outputs": [
    {
     "data": {
      "text/html": [
       "<div>\n",
       "<style scoped>\n",
       "    .dataframe tbody tr th:only-of-type {\n",
       "        vertical-align: middle;\n",
       "    }\n",
       "\n",
       "    .dataframe tbody tr th {\n",
       "        vertical-align: top;\n",
       "    }\n",
       "\n",
       "    .dataframe thead th {\n",
       "        text-align: right;\n",
       "    }\n",
       "</style>\n",
       "<table border=\"1\" class=\"dataframe\">\n",
       "  <thead>\n",
       "    <tr style=\"text-align: right;\">\n",
       "      <th></th>\n",
       "      <th>rules</th>\n",
       "      <th>outer_bag</th>\n",
       "      <th>level1</th>\n",
       "    </tr>\n",
       "  </thead>\n",
       "  <tbody>\n",
       "    <tr>\n",
       "      <th>163</th>\n",
       "      <td>clear indigo bags contain 1 shiny gold bag, 2 ...</td>\n",
       "      <td>clear indigo bags</td>\n",
       "      <td>1</td>\n",
       "    </tr>\n",
       "    <tr>\n",
       "      <th>225</th>\n",
       "      <td>bright red bags contain 1 dull crimson bag, 5 ...</td>\n",
       "      <td>bright red bags</td>\n",
       "      <td>1</td>\n",
       "    </tr>\n",
       "    <tr>\n",
       "      <th>255</th>\n",
       "      <td>plaid plum bags contain 3 shiny gold bags, 1 w...</td>\n",
       "      <td>plaid plum bags</td>\n",
       "      <td>1</td>\n",
       "    </tr>\n",
       "    <tr>\n",
       "      <th>259</th>\n",
       "      <td>clear plum bags contain 1 dark indigo bag, 3 s...</td>\n",
       "      <td>clear plum bags</td>\n",
       "      <td>1</td>\n",
       "    </tr>\n",
       "    <tr>\n",
       "      <th>289</th>\n",
       "      <td>dark gold bags contain 1 striped bronze bag, 3...</td>\n",
       "      <td>dark gold bags</td>\n",
       "      <td>1</td>\n",
       "    </tr>\n",
       "    <tr>\n",
       "      <th>345</th>\n",
       "      <td>striped olive bags contain 3 shiny gold bags.</td>\n",
       "      <td>striped olive bags</td>\n",
       "      <td>1</td>\n",
       "    </tr>\n",
       "    <tr>\n",
       "      <th>359</th>\n",
       "      <td>bright chartreuse bags contain 2 shiny gold ba...</td>\n",
       "      <td>bright chartreuse bags</td>\n",
       "      <td>1</td>\n",
       "    </tr>\n",
       "    <tr>\n",
       "      <th>445</th>\n",
       "      <td>muted gray bags contain 5 bright chartreuse ba...</td>\n",
       "      <td>muted gray bags</td>\n",
       "      <td>1</td>\n",
       "    </tr>\n",
       "    <tr>\n",
       "      <th>446</th>\n",
       "      <td>clear red bags contain 4 pale teal bags, 2 shi...</td>\n",
       "      <td>clear red bags</td>\n",
       "      <td>1</td>\n",
       "    </tr>\n",
       "    <tr>\n",
       "      <th>588</th>\n",
       "      <td>shiny gold bags contain 2 light chartreuse bag...</td>\n",
       "      <td>shiny gold bags</td>\n",
       "      <td>1</td>\n",
       "    </tr>\n",
       "    <tr>\n",
       "      <th>591</th>\n",
       "      <td>dim red bags contain 4 drab plum bags, 4 shiny...</td>\n",
       "      <td>dim red bags</td>\n",
       "      <td>1</td>\n",
       "    </tr>\n",
       "  </tbody>\n",
       "</table>\n",
       "</div>"
      ],
      "text/plain": [
       "                                                 rules                outer_bag  level1\n",
       "163  clear indigo bags contain 1 shiny gold bag, 2 ...       clear indigo bags        1\n",
       "225  bright red bags contain 1 dull crimson bag, 5 ...         bright red bags        1\n",
       "255  plaid plum bags contain 3 shiny gold bags, 1 w...         plaid plum bags        1\n",
       "259  clear plum bags contain 1 dark indigo bag, 3 s...         clear plum bags        1\n",
       "289  dark gold bags contain 1 striped bronze bag, 3...          dark gold bags        1\n",
       "345      striped olive bags contain 3 shiny gold bags.      striped olive bags        1\n",
       "359  bright chartreuse bags contain 2 shiny gold ba...  bright chartreuse bags        1\n",
       "445  muted gray bags contain 5 bright chartreuse ba...         muted gray bags        1\n",
       "446  clear red bags contain 4 pale teal bags, 2 shi...          clear red bags        1\n",
       "588  shiny gold bags contain 2 light chartreuse bag...         shiny gold bags        1\n",
       "591  dim red bags contain 4 drab plum bags, 4 shiny...            dim red bags        1"
      ]
     },
     "execution_count": 58,
     "metadata": {},
     "output_type": "execute_result"
    }
   ],
   "source": [
    "df.query('level1 == 1')"
   ]
  },
  {
   "cell_type": "code",
   "execution_count": null,
   "metadata": {},
   "outputs": [],
   "source": []
  },
  {
   "cell_type": "code",
   "execution_count": 5,
   "metadata": {},
   "outputs": [],
   "source": [
    "def clean_up_and_count(raw_groups):\n",
    "    '''Remove duplicates and \\n from each group's string of yes responses. \n",
    "        set() will create a set of unique letters in the string, \n",
    "        and \"\".join() will join the letters back to a string in arbitrary order.\n",
    "        Count = number of unique letters in each clean string'''\n",
    "    no_new_lines = raw_groups.replace('\\n','') #replace deals with new lines in middle of string, strip would deal with only start and end occurrences\n",
    "    clean = \"\".join(set(no_new_lines)) \n",
    "    count = len(clean)\n",
    "    return count\n",
    "\n",
    "df['count_unique_yeses'] = df.apply(lambda x: clean_up_and_count(x['raw_groups']), axis=1)    "
   ]
  },
  {
   "cell_type": "code",
   "execution_count": 6,
   "metadata": {},
   "outputs": [
    {
     "data": {
      "text/html": [
       "<div>\n",
       "<style scoped>\n",
       "    .dataframe tbody tr th:only-of-type {\n",
       "        vertical-align: middle;\n",
       "    }\n",
       "\n",
       "    .dataframe tbody tr th {\n",
       "        vertical-align: top;\n",
       "    }\n",
       "\n",
       "    .dataframe thead th {\n",
       "        text-align: right;\n",
       "    }\n",
       "</style>\n",
       "<table border=\"1\" class=\"dataframe\">\n",
       "  <thead>\n",
       "    <tr style=\"text-align: right;\">\n",
       "      <th></th>\n",
       "      <th>raw_groups</th>\n",
       "      <th>count_unique_yeses</th>\n",
       "    </tr>\n",
       "  </thead>\n",
       "  <tbody>\n",
       "    <tr>\n",
       "      <th>0</th>\n",
       "      <td>xav\\nuavx\\nxavsi\\nyavx</td>\n",
       "      <td>7</td>\n",
       "    </tr>\n",
       "    <tr>\n",
       "      <th>1</th>\n",
       "      <td>efokjptizdcwmqnuh\\nqgfdvurtnjwpichxk\\ntaqkcunf...</td>\n",
       "      <td>24</td>\n",
       "    </tr>\n",
       "    <tr>\n",
       "      <th>2</th>\n",
       "      <td>mzbg\\ntmg\\nrlvge\\nhgpbzn\\ncagkijyu</td>\n",
       "      <td>19</td>\n",
       "    </tr>\n",
       "    <tr>\n",
       "      <th>3</th>\n",
       "      <td>ahynbmqljzpwxokcfrtsgeud\\nxwzcmdhkrjnupegqlyoa...</td>\n",
       "      <td>24</td>\n",
       "    </tr>\n",
       "    <tr>\n",
       "      <th>4</th>\n",
       "      <td>jrxcnyadsgbtpvoze\\nsecpytarvdzjgb\\nycsfzgtedar...</td>\n",
       "      <td>18</td>\n",
       "    </tr>\n",
       "  </tbody>\n",
       "</table>\n",
       "</div>"
      ],
      "text/plain": [
       "                                          raw_groups  count_unique_yeses\n",
       "0                             xav\\nuavx\\nxavsi\\nyavx                   7\n",
       "1  efokjptizdcwmqnuh\\nqgfdvurtnjwpichxk\\ntaqkcunf...                  24\n",
       "2                 mzbg\\ntmg\\nrlvge\\nhgpbzn\\ncagkijyu                  19\n",
       "3  ahynbmqljzpwxokcfrtsgeud\\nxwzcmdhkrjnupegqlyoa...                  24\n",
       "4  jrxcnyadsgbtpvoze\\nsecpytarvdzjgb\\nycsfzgtedar...                  18"
      ]
     },
     "execution_count": 6,
     "metadata": {},
     "output_type": "execute_result"
    }
   ],
   "source": [
    "df.head()"
   ]
  },
  {
   "cell_type": "code",
   "execution_count": 7,
   "metadata": {},
   "outputs": [
    {
     "data": {
      "text/plain": [
       "6947"
      ]
     },
     "execution_count": 7,
     "metadata": {},
     "output_type": "execute_result"
    }
   ],
   "source": [
    "#answer - sum uniques per group\n",
    "df['count_unique_yeses'].sum()"
   ]
  },
  {
   "cell_type": "markdown",
   "metadata": {},
   "source": [
    "Part 2"
   ]
  },
  {
   "cell_type": "markdown",
   "metadata": {},
   "source": [
    "As you finish the last group's customs declaration, you notice that you misread one word in the instructions:\n",
    "\n",
    "You don't need to identify the questions to which anyone answered \"yes\"; you need to identify the questions to which everyone answered \"yes\"!\n",
    "\n",
    "Using the same example as above:\n",
    "\n",
    "abc\n",
    "\n",
    "a\n",
    "b\n",
    "c\n",
    "\n",
    "ab\n",
    "ac\n",
    "\n",
    "a\n",
    "a\n",
    "a\n",
    "a\n",
    "\n",
    "b\n",
    "This list represents answers from five groups:\n",
    "\n",
    "In the first group, everyone (all 1 person) answered \"yes\" to 3 questions: a, b, and c.\n",
    "In the second group, there is no question to which everyone answered \"yes\".\n",
    "In the third group, everyone answered yes to only 1 question, a. Since some people did not answer \"yes\" to b or c, they don't count.\n",
    "In the fourth group, everyone answered yes to only 1 question, a.\n",
    "In the fifth group, everyone (all 1 person) answered \"yes\" to 1 question, b.\n",
    "In this example, the sum of these counts is 3 + 0 + 1 + 1 + 1 = 6.\n",
    "\n",
    "For each group, count the number of questions to which everyone answered \"yes\". What is the sum of those counts?\n",
    "\n",
    "Your puzzle answer was 3398.\n",
    "\n",
    "Both parts of this puzzle are complete! They provide two gold stars: **"
   ]
  },
  {
   "cell_type": "code",
   "execution_count": 11,
   "metadata": {},
   "outputs": [],
   "source": [
    "def yes_for_all_count(raw_groups):\n",
    "    '''Count number of single lines in group = number of group members\n",
    "        Count occurrences of each char in string, where count = group members - add 1 to score '''\n",
    "    \n",
    "    #number of lines = number group members\n",
    "    group_members_count = raw_groups.count('\\n') + 1 #plus one for first line in addition to new lines\n",
    "    \n",
    "    #dict for letter counts in each group\n",
    "    group_letter_counts = {}\n",
    "    \n",
    "    for char in raw_groups:\n",
    "        if char.isalpha(): #exclude new lines from char count\n",
    "            if char not in group_letter_counts: #letters not yet counted\n",
    "                group_letter_counts.update({char: 1}) #first letter is count 1..obvs. \n",
    "            else:\n",
    "                new_count = group_letter_counts.get(char) + 1 #add one to existing count in dict\n",
    "                group_letter_counts.update({char: new_count})\n",
    "\n",
    "    #how many letters have count == group member number?\n",
    "    yes_for_all = [] #list for those letters with yes from all group members\n",
    "    for item in group_letter_counts.items():\n",
    "        if item[1] == group_members_count:\n",
    "            yes_for_all.append(item[0])  \n",
    "\n",
    "    yes_for_all_count = len(yes_for_all)\n",
    "\n",
    "    return yes_for_all_count\n",
    "\n",
    "df['yes_for_all_count'] = df.apply(lambda x: yes_for_all_count(x['raw_groups']), axis=1)   "
   ]
  },
  {
   "cell_type": "code",
   "execution_count": 12,
   "metadata": {},
   "outputs": [
    {
     "data": {
      "text/html": [
       "<div>\n",
       "<style scoped>\n",
       "    .dataframe tbody tr th:only-of-type {\n",
       "        vertical-align: middle;\n",
       "    }\n",
       "\n",
       "    .dataframe tbody tr th {\n",
       "        vertical-align: top;\n",
       "    }\n",
       "\n",
       "    .dataframe thead th {\n",
       "        text-align: right;\n",
       "    }\n",
       "</style>\n",
       "<table border=\"1\" class=\"dataframe\">\n",
       "  <thead>\n",
       "    <tr style=\"text-align: right;\">\n",
       "      <th></th>\n",
       "      <th>raw_groups</th>\n",
       "      <th>count_unique_yeses</th>\n",
       "      <th>yes_for_all_count</th>\n",
       "    </tr>\n",
       "  </thead>\n",
       "  <tbody>\n",
       "    <tr>\n",
       "      <th>0</th>\n",
       "      <td>xav\\nuavx\\nxavsi\\nyavx</td>\n",
       "      <td>7</td>\n",
       "      <td>3</td>\n",
       "    </tr>\n",
       "    <tr>\n",
       "      <th>1</th>\n",
       "      <td>efokjptizdcwmqnuh\\nqgfdvurtnjwpichxk\\ntaqkcunf...</td>\n",
       "      <td>24</td>\n",
       "      <td>13</td>\n",
       "    </tr>\n",
       "    <tr>\n",
       "      <th>2</th>\n",
       "      <td>mzbg\\ntmg\\nrlvge\\nhgpbzn\\ncagkijyu</td>\n",
       "      <td>19</td>\n",
       "      <td>1</td>\n",
       "    </tr>\n",
       "    <tr>\n",
       "      <th>3</th>\n",
       "      <td>ahynbmqljzpwxokcfrtsgeud\\nxwzcmdhkrjnupegqlyoa...</td>\n",
       "      <td>24</td>\n",
       "      <td>22</td>\n",
       "    </tr>\n",
       "    <tr>\n",
       "      <th>4</th>\n",
       "      <td>jrxcnyadsgbtpvoze\\nsecpytarvdzjgb\\nycsfzgtedar...</td>\n",
       "      <td>18</td>\n",
       "      <td>14</td>\n",
       "    </tr>\n",
       "  </tbody>\n",
       "</table>\n",
       "</div>"
      ],
      "text/plain": [
       "                                          raw_groups  count_unique_yeses  \\\n",
       "0                             xav\\nuavx\\nxavsi\\nyavx                   7   \n",
       "1  efokjptizdcwmqnuh\\nqgfdvurtnjwpichxk\\ntaqkcunf...                  24   \n",
       "2                 mzbg\\ntmg\\nrlvge\\nhgpbzn\\ncagkijyu                  19   \n",
       "3  ahynbmqljzpwxokcfrtsgeud\\nxwzcmdhkrjnupegqlyoa...                  24   \n",
       "4  jrxcnyadsgbtpvoze\\nsecpytarvdzjgb\\nycsfzgtedar...                  18   \n",
       "\n",
       "   yes_for_all_count  \n",
       "0                  3  \n",
       "1                 13  \n",
       "2                  1  \n",
       "3                 22  \n",
       "4                 14  "
      ]
     },
     "execution_count": 12,
     "metadata": {},
     "output_type": "execute_result"
    }
   ],
   "source": [
    "df.head()"
   ]
  },
  {
   "cell_type": "code",
   "execution_count": 13,
   "metadata": {},
   "outputs": [
    {
     "data": {
      "text/plain": [
       "3398"
      ]
     },
     "execution_count": 13,
     "metadata": {},
     "output_type": "execute_result"
    }
   ],
   "source": [
    "#answer - count of all yeses by group\n",
    "df['yes_for_all_count'].sum()"
   ]
  },
  {
   "cell_type": "code",
   "execution_count": null,
   "metadata": {},
   "outputs": [],
   "source": []
  },
  {
   "cell_type": "code",
   "execution_count": null,
   "metadata": {},
   "outputs": [],
   "source": []
  }
 ],
 "metadata": {
  "kernelspec": {
   "display_name": "Python 3",
   "language": "python",
   "name": "python3"
  },
  "language_info": {
   "codemirror_mode": {
    "name": "ipython",
    "version": 3
   },
   "file_extension": ".py",
   "mimetype": "text/x-python",
   "name": "python",
   "nbconvert_exporter": "python",
   "pygments_lexer": "ipython3",
   "version": "3.6.12"
  }
 },
 "nbformat": 4,
 "nbformat_minor": 4
}
